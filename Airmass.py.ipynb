{
 "cells": [
  {
   "cell_type": "code",
   "execution_count": 1,
   "metadata": {},
   "outputs": [],
   "source": [
    "import astropy\n",
    "from astropy import units as u\n",
    "from astropy.coordinates import SkyCoord, EarthLocation, AltAz\n",
    "from astropy.time import TimeDelta\n",
    "from astropy.time import Time\n",
    "\n",
    "import dateutil \"Library to grab the date: https://pypi.org/project/python-dateutil/\"\"\n"
   ]
  },
  {
   "cell_type": "code",
   "execution_count": 3,
   "metadata": {},
   "outputs": [],
   "source": [
    "class Airmass(object):\n",
    "    \"\"\"Airmass calculation from 1 to 5.8 by default.\"\"\"\n",
    "\n",
    "    def __init__(self):\n",
    "        \"\"\"Getting user-values from config_values module.\"\"\"\n",
    "        \n",
    "        self.user = UserValues()\n",
    "        \n",
    "        self.latitude = self.user.get_latitude()\n",
    "        self.longitude = self.user.get_longitude()\n",
    "        self.altitude = self.user.get_altitude()\n",
    "        self.obs_time = self.user.get_obs_time()\n",
    "\n",
    "        self.dt = TimeDelta(3600.0, format='sec') \n",
    "        \n",
    "        self.airmass_list = []\n",
    "        self.time_list = []\n",
    "        self.step = 0\n",
    "        self.end_step = 11"
   ]
  },
  {
   "cell_type": "code",
   "execution_count": 4,
   "metadata": {},
   "outputs": [],
   "source": [
    "    def airmass(self, ra, dec, lat, lon, height,\n",
    "                time_input, airmass_min=1, airmass_max=5.8):\n",
    "        \"\"\" Airmass calculation at a given time in a particular site for an input sky position (ra, dec) in degrees.\n",
    "            The airmass is calculated in the range [airmass_min, airmass_max].\"\"\"\n",
    "     \n",
    "        observatory = astropy.coordinates.EarthLocation(lat = self.latitude*u.deg,\n",
    "                                                        lon = self.longitude*u.deg,\n",
    "                                                        height = self.altitude*u.m)\n",
    "        sky_coord = SkyCoord(ra = ra*u.deg,\n",
    "                              dec=dec*u.deg, frame='icrs')     \n",
    "        time = Time(time_input) \n",
    "        altaz = sky_coord.transform_to(AltAz(obstime=time,\n",
    "                                              location=observatory))                                                                             \n",
    "        airmass_value = altaz.secz                  \n",
    "\n",
    "        if airmass_value < airmass_min or airmass_value > airmass_max:\n",
    "            airmass_value =  \"nan\"\n",
    "            return airmass_value\n",
    "        else:     \n",
    "            airmass_value = round(float(airmass_value), 2)\n",
    "            return airmass_value"
   ]
  },
  {
   "cell_type": "code",
   "execution_count": null,
   "metadata": {},
   "outputs": [],
   "source": []
  }
 ],
 "metadata": {
  "kernelspec": {
   "display_name": "Python 3",
   "language": "python",
   "name": "python3"
  },
  "language_info": {
   "codemirror_mode": {
    "name": "ipython",
    "version": 3
   },
   "file_extension": ".py",
   "mimetype": "text/x-python",
   "name": "python",
   "nbconvert_exporter": "python",
   "pygments_lexer": "ipython3",
   "version": "3.7.3"
  }
 },
 "nbformat": 4,
 "nbformat_minor": 2
}
