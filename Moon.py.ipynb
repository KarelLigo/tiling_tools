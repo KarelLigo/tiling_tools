{
 "cells": [
  {
   "cell_type": "code",
   "execution_count": 1,
   "metadata": {},
   "outputs": [],
   "source": [
    "import astropy\n",
    "from astropy import units as u\n",
    "from astropy.coordinates import SkyCoord, EarthLocation, AltAz, get_moon, get_sun\n",
    "from astropy.time import TimeDelta\n",
    "from astropy.time import Time\n",
    "\n",
    "import numpy as np\n"
   ]
  },
  {
   "cell_type": "code",
   "execution_count": 2,
   "metadata": {},
   "outputs": [],
   "source": [
    "class Moon(object):\n",
    "\n",
    "    def __init__(self):\n",
    "        \"\"\"Getting user-values from config_values module.\"\"\"\n",
    "        \n",
    "        self.user = UserValues()\n",
    "        self.aladin = AladinScriptCommands()\n",
    "        \n",
    "        self.latitude = self.user.get_latitude()\n",
    "        self.longitude = self.user.get_longitude()\n",
    "        self.altitude = self.user.get_altitude()\n",
    "        self.obs_time = Time(self.user.get_obs_time())\n",
    "\n",
    "        self.dt = TimeDelta(7200.0, format='sec')\n",
    "\n",
    "        self.step = 0\n",
    "        self.end_step = 11"
   ]
  },
  {
   "cell_type": "code",
   "execution_count": 3,
   "metadata": {},
   "outputs": [],
   "source": [
    "    def get_location(self):\n",
    "\n",
    "        observatory = astropy.coordinates.EarthLocation(lat = self.latitude*u.deg,\n",
    "                                                        lon = self.longitude*u.deg,\n",
    "                                                        height = self.altitude*u.m)\n",
    "        return observatory"
   ]
  },
  {
   "cell_type": "code",
   "execution_count": 4,
   "metadata": {},
   "outputs": [],
   "source": [
    "    def get_time(self):\n",
    "\n",
    "        self.time = Time(self.obs_time)\n",
    "\n",
    "        return self.time\n"
   ]
  },
  {
   "cell_type": "code",
   "execution_count": 5,
   "metadata": {},
   "outputs": [],
   "source": [
    "    def moon_on_sky(self):\n",
    "\n",
    "        self.get_location()\n",
    "        #self.get.time()\n",
    "        self.sky_position()"
   ]
  },
  {
   "cell_type": "code",
   "execution_count": 8,
   "metadata": {},
   "outputs": [],
   "source": [
    "    def steps(self):\n",
    "        \"\"\"Moon position in step of one hour for an input sky position (ra, dec).\n",
    "           10 steps are performed: step <10; dt = 1h.\"\"\"\n",
    "\n",
    "        #obs_time = Time(self.obs_time)\n",
    "        self.aladin.draw_newtool(\"Moon\")\n",
    "        self.time = Time(self.obs_time)\n",
    "        self.observatory = self.get_location()\n",
    "        while self.step < self.end_step:\n",
    "            time_update = self.time + self.step*self.dt\n",
    "            \n",
    "            position_moon = get_moon(time_update, self.observatory)\n",
    "            \n",
    "            #val = self.airmass(ra, dec, self.altitude, self.longitude, self.altitude,\n",
    "            #                   time_input)           \n",
    "            #self.airmass_list.append(val)\n",
    "            #self.time_list.append(str(time_input))\n",
    "            self.step+=1\n",
    "            \n",
    "            self.aladin.draw_string(position_moon.ra, position_moon.dec, \"MOON\"+ \"-->\" + str(time_update.isot))\n",
    "            #print str(time_update.isot) \n",
    "            #print  position_moon.ra, position_moon.ra"
   ]
  },
  {
   "cell_type": "code",
   "execution_count": 9,
   "metadata": {},
   "outputs": [],
   "source": [
    "    def illumination(self):\n",
    "        \"\"\"Return the fraction of the moon illumination.\n",
    "           Modified version of astroplan project.\"\"\"\n",
    "        \n",
    "        sun = get_sun(self.obs_time)\n",
    "        observatory = self.get_location()\n",
    "        moon = get_moon(self.obs_time, observatory)\n",
    "        #print moon\n",
    "        \n",
    "        elongation = sun.separation(moon)\n",
    "        i = np.arctan2(sun.distance*np.sin(elongation), moon.distance - sun.distance*np.cos(elongation))\n",
    "        k = (1 + np.cos(i))/2.0\n",
    "        \n",
    "        return round(k.value, 2)"
   ]
  },
  {
   "cell_type": "code",
   "execution_count": 10,
   "metadata": {},
   "outputs": [],
   "source": [
    "    def from_fov(self, ra_fov_center, dec_fov_center):\n",
    "        \"\"\" Return the Moon position over the sky.\"\"\"\n",
    "\n",
    "        observatory = self.get_location()\n",
    "        moon = get_moon(self.obs_time, observatory)\n",
    "        \n",
    "        distance = Utils.separation(ra_fov_center, dec_fov_center, moon.ra, moon.dec)\n",
    "        #print moon.ra*u.deg, moon.dec*u.deg                \n",
    "        return distance.deg"
   ]
  },
  {
   "cell_type": "code",
   "execution_count": 11,
   "metadata": {},
   "outputs": [],
   "source": [
    "    def sky_position(self):\n",
    "        \"\"\"Plot the Moon position on the Aladin plane.\"\"\"\n",
    "\n",
    "        time = Time(self.obs_time)\n",
    "        observatory = self.get_location()\n",
    "        position_moon = get_moon(time, observatory)\n",
    "\n",
    "        illumination = self.illumination()\n",
    "\n",
    "        #self.aladin.draw_string(position_moon.ra, position_moon.dec, \"MOON position\")\n",
    "        self.aladin.draw_moon(position_moon.ra, position_moon.dec, illumination)       \n"
   ]
  },
  {
   "cell_type": "code",
   "execution_count": null,
   "metadata": {},
   "outputs": [],
   "source": []
  }
 ],
 "metadata": {
  "kernelspec": {
   "display_name": "Python 3",
   "language": "python",
   "name": "python3"
  },
  "language_info": {
   "codemirror_mode": {
    "name": "ipython",
    "version": 3
   },
   "file_extension": ".py",
   "mimetype": "text/x-python",
   "name": "python",
   "nbconvert_exporter": "python",
   "pygments_lexer": "ipython3",
   "version": "3.7.3"
  }
 },
 "nbformat": 4,
 "nbformat_minor": 2
}
